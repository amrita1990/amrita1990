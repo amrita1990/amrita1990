{
  "nbformat": 4,
  "nbformat_minor": 0,
  "metadata": {
    "colab": {
      "name": "Untitled6.ipynb",
      "provenance": [],
      "collapsed_sections": [],
      "authorship_tag": "ABX9TyOACvudR8kfT42co9Z355TM",
      "include_colab_link": true
    },
    "kernelspec": {
      "name": "python3",
      "display_name": "Python 3"
    },
    "language_info": {
      "name": "python"
    }
  },
  "cells": [
    {
      "cell_type": "markdown",
      "metadata": {
        "id": "view-in-github",
        "colab_type": "text"
      },
      "source": [
        "<a href=\"https://colab.research.google.com/github/amrita1990/amrita1990/blob/main/Linear%20Regression%20Pytorch.ipynb\" target=\"_parent\"><img src=\"https://colab.research.google.com/assets/colab-badge.svg\" alt=\"Open In Colab\"/></a>"
      ]
    },
    {
      "cell_type": "code",
      "metadata": {
        "id": "fh34Rw8JGZix"
      },
      "source": [
        "import torch"
      ],
      "execution_count": 1,
      "outputs": []
    },
    {
      "cell_type": "code",
      "metadata": {
        "id": "4xhouJh7GgLZ"
      },
      "source": [
        "import torch.nn as nn"
      ],
      "execution_count": 3,
      "outputs": []
    },
    {
      "cell_type": "code",
      "metadata": {
        "id": "kge8YdX5GjvA"
      },
      "source": [
        "import numpy as np\n",
        "from sklearn import datasets"
      ],
      "execution_count": 2,
      "outputs": []
    },
    {
      "cell_type": "code",
      "metadata": {
        "id": "6zcudmdhGsFg"
      },
      "source": [
        "import matplotlib.pyplot as plt\n"
      ],
      "execution_count": 4,
      "outputs": []
    },
    {
      "cell_type": "code",
      "metadata": {
        "id": "ItbNANP4GxWR"
      },
      "source": [
        "x_numpy,y_numpy=datasets.make_regression(n_samples=100,n_features=1,noise=20,random_state=1)"
      ],
      "execution_count": 6,
      "outputs": []
    },
    {
      "cell_type": "code",
      "metadata": {
        "id": "KYkkgUPnHJuy"
      },
      "source": [
        "X=torch.from_numpy(x_numpy.astype(np.float32))\n",
        "Y=torch.from_numpy(y_numpy.astype(np.float32))"
      ],
      "execution_count": 9,
      "outputs": []
    },
    {
      "cell_type": "code",
      "metadata": {
        "colab": {
          "base_uri": "https://localhost:8080/"
        },
        "id": "Zfir55DpHLfP",
        "outputId": "81339394-af99-4b41-a417-2f6398505fc9"
      },
      "source": [
        "Y"
      ],
      "execution_count": 12,
      "outputs": [
        {
          "output_type": "execute_result",
          "data": {
            "text/plain": [
              "tensor([-5.5539e+01, -1.0662e+01,  2.2757e+01,  1.0110e+02,  1.4434e+02,\n",
              "         3.3289e+01,  3.3015e+01, -2.5887e+01, -9.9639e+01,  2.3803e+01,\n",
              "        -4.5589e+01, -8.3388e+00, -9.5315e+01,  3.6407e+01, -8.7293e+01,\n",
              "         6.7669e+01, -1.3687e+01, -5.5441e+01, -6.5340e+01, -5.4450e+01,\n",
              "        -2.8835e+01,  1.7884e+02,  6.5084e+01,  2.6668e+01, -1.8546e+01,\n",
              "        -4.1499e+01,  8.5583e-01,  4.4562e+01,  1.1598e+02, -6.4620e+01,\n",
              "        -2.5931e+01, -6.0882e+01,  1.8720e+01,  7.5070e+01,  1.1720e+02,\n",
              "        -2.2698e+01, -5.6363e+01,  1.8084e+02, -1.9257e+02,  6.8503e+01,\n",
              "         1.6552e+02,  1.0500e+02, -7.0434e+01, -5.8769e+01, -4.1576e+01,\n",
              "         7.3247e+01,  4.0966e+01,  8.0462e+01, -2.8794e+01,  3.4234e+01,\n",
              "        -4.1715e+01,  1.4355e+01,  7.9336e+01,  2.7129e+01, -3.9487e+01,\n",
              "         6.6805e+01,  9.5531e+01,  3.5610e+00,  1.0857e-01,  5.6495e+01,\n",
              "         5.1575e+01, -2.0974e+00, -2.6656e+01,  3.9742e+01,  3.6101e+01,\n",
              "        -7.5602e+01,  1.9713e+01, -7.1601e+01, -1.9904e+01, -7.6708e+01,\n",
              "        -1.1834e+02, -2.9825e+01,  1.5108e+02,  5.2923e+01, -5.9552e+01,\n",
              "         3.0721e+01, -2.9355e+01, -4.4786e+01,  1.0006e+02,  1.5058e+02,\n",
              "         1.2200e+02, -1.8186e+02,  3.4739e+00, -2.2980e+01,  4.5184e+01,\n",
              "         9.8606e+01, -9.2779e+00, -5.2478e+01,  3.8593e+01, -1.9997e+02,\n",
              "        -9.5201e+00, -3.4724e+00, -3.5312e+01,  7.5406e+01,  1.7570e+01,\n",
              "        -2.3960e+01,  1.3209e+02,  2.0608e+01,  5.1111e+01, -2.6306e+01])"
            ]
          },
          "metadata": {},
          "execution_count": 12
        }
      ]
    },
    {
      "cell_type": "code",
      "metadata": {
        "id": "74U3vkvkHvvP"
      },
      "source": [
        "Y=Y.view(Y.shape[0],1)"
      ],
      "execution_count": 22,
      "outputs": []
    },
    {
      "cell_type": "code",
      "metadata": {
        "id": "wY6ZLlwxIUMP"
      },
      "source": [
        "n_samples,n_features=X.shape"
      ],
      "execution_count": 24,
      "outputs": []
    },
    {
      "cell_type": "code",
      "metadata": {
        "id": "pIJXAhNDIw23"
      },
      "source": [
        "input_size=n_features\n",
        "output_size=1\n",
        "model=nn.Linear(input_size,output_size)\n"
      ],
      "execution_count": 27,
      "outputs": []
    },
    {
      "cell_type": "code",
      "metadata": {
        "id": "y61f_-ETJUUf"
      },
      "source": [
        "learning_rate=0.01\n",
        "criterion=nn.MSELoss()\n",
        "optimizer=torch.optim.SGD(model.parameters(),lr=learning_rate)"
      ],
      "execution_count": 29,
      "outputs": []
    },
    {
      "cell_type": "code",
      "metadata": {
        "colab": {
          "base_uri": "https://localhost:8080/",
          "height": 449
        },
        "id": "qDYwc5miJpdn",
        "outputId": "d4bc97db-979a-40f6-b59a-4e881ea39d0c"
      },
      "source": [
        "num_epochs=100\n",
        "\n",
        "for epoch in range(num_epochs):\n",
        "     #forward pass and loss\n",
        "      y_predicted=model(X)\n",
        "      loss=criterion(y_predicted,Y)\n",
        "\n",
        "      #BACKWARD\n",
        "      loss.backward()\n",
        "\n",
        "      #update\n",
        "      optimizer.step()\n",
        "\n",
        "      #zero grad\n",
        "      optimizer.zero_grad()\n",
        "\n",
        "      if (epoch+1) % 10==0:\n",
        "        print(f'epoch: {epoch+1}, loss = {loss.item():.4f}')\n",
        "\n",
        "  #plot\n",
        "predicted=model(X).detach().numpy()\n",
        "plt.plot(x_numpy,y_numpy,'ro')\n",
        "plt.plot(x_numpy,predicted,'b')\n",
        "plt.show()\n"
      ],
      "execution_count": 31,
      "outputs": [
        {
          "output_type": "stream",
          "name": "stdout",
          "text": [
            "epoch: 10, loss = 4362.3633\n",
            "epoch: 20, loss = 3254.2109\n",
            "epoch: 30, loss = 2452.7329\n",
            "epoch: 40, loss = 1872.4219\n",
            "epoch: 50, loss = 1451.8207\n",
            "epoch: 60, loss = 1146.6879\n",
            "epoch: 70, loss = 925.1314\n",
            "epoch: 80, loss = 764.1308\n",
            "epoch: 90, loss = 647.0485\n",
            "epoch: 100, loss = 561.8470\n"
          ]
        },
        {
          "output_type": "display_data",
          "data": {
            "image/png": "[encoded data removed]",
            "text/plain": [
              "<Figure size 432x288 with 1 Axes>"
            ]
          },
          "metadata": {
            "needs_background": "light"
          }
        }
      ]
    }
  ]
}